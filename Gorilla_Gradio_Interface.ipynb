{
  "nbformat": 4,
  "nbformat_minor": 0,
  "metadata": {
    "colab": {
      "provenance": []
    },
    "kernelspec": {
      "name": "python3",
      "display_name": "Python 3"
    },
    "language_info": {
      "name": "python"
    }
  },
  "cells": [
    {
      "cell_type": "code",
      "source": [
        "%%capture\n",
        "!pip install openai &> /dev/null\n",
        "!pip install gradio"
      ],
      "metadata": {
        "id": "d8EUbbGiI3KH"
      },
      "execution_count": null,
      "outputs": []
    },
    {
      "cell_type": "code",
      "source": [
        "import gradio as gr\n",
        "import openai\n",
        "\n",
        "# There is no need for an API key let the following be as is\n",
        "openai.api_key = \"EMPTY\"\n",
        "\n",
        "openai.api_base = \"http://zanino.millennium.berkeley.edu:8000/v1\"\n",
        "# If there is any issue try using\n",
        "# openai.api_base = \"http://34.132.127.197:8000/v1\"\n",
        "\n",
        "def get_gorilla_response(prompt, model=\"gorilla-7b-hf-v1\"):\n",
        "  completion = openai.ChatCompletion.create(\n",
        "    model=model,\n",
        "    messages=[{\"role\": \"user\", \"content\": prompt}]\n",
        "  )\n",
        "  return completion.choices[0].message.content\n",
        "\n",
        "def parse_output(text):\n",
        "  components = {}\n",
        "\n",
        "  components['domain'] = text.split(\"<<<domain>>>:\")[1].split(\"<<<api_call>>>\")[0].strip()\n",
        "  components['api_call'] = text.split(\"<<<api_call>>>:\")[1].split(\"<<<api_provider>>>\")[0].strip()\n",
        "  components['api_provider'] = text.split(\"<<<api_provider>>>:\")[1].split(\"<<<explanation>>>\")[0].strip()\n",
        "  components['explanation'] = text.split(\"<<<explanation>>>:\")[1].split(\"<<<code>>>\")[0].strip()\n",
        "  components['code'] = text.split(\"<<<code>>>:\")[1].strip()\n",
        "\n",
        "  return components\n",
        "\n",
        "def parse_and_display(prompt):\n",
        "\n",
        "  text = get_gorilla_response(prompt)\n",
        "\n",
        "  components = parse_output(text)\n",
        "\n",
        "  domain = components['domain']\n",
        "  api_call = components['api_call']\n",
        "  api_provider = components['api_provider']\n",
        "  explanation = components['explanation']\n",
        "  code = components['code']\n",
        "\n",
        "  return domain, api_call, api_provider, explanation, code\n",
        "\n",
        "examples = [\n",
        "  [\"Translate this sentence to French\"],\n",
        "  [\"Summarize this paragraph in 5 sentences\"],\n",
        "  [\"Generate an image of a cat\"]\n",
        "]\n",
        "\n",
        "iface = gr.Interface(fn=parse_and_display,\n",
        "                     inputs=\"text\",\n",
        "                     outputs=[\n",
        "                       gr.components.Textbox(label=\"Domain\"),\n",
        "                       gr.components.Textbox(label=\"API Call\"),\n",
        "                       gr.components.Textbox(label=\"API Provider\"),\n",
        "                       gr.components.Textbox(label=\"Explanation\"),\n",
        "                       gr.components.Code(label=\"Code\")\n",
        "                     ],\n",
        "                     title=\"Gorilla API Explorer\",\n",
        "                     description=\"Empower Your Interactions with Gorilla API Through an Intuitive and User-Friendly Interface\",\n",
        "                     examples=examples)\n",
        "\n",
        "iface.launch(share=True)"
      ],
      "metadata": {
        "id": "cEVLE2mlCrwV"
      },
      "execution_count": null,
      "outputs": []
    }
  ]
}